{
 "cells": [
  {
   "cell_type": "markdown",
   "metadata": {},
   "source": [
    "# Simulacion numerica de una membrana\n",
    "\n",
    "La simulacion sera de una membrana de $NxM$ masas unidas por resortes con contornos fijos con aproximacion de pequeñas perturbaciones. Los parametros seran $N$ y $M$, la cantidad de masas; $k$, la constante elastica de todos los resortes; $m$, las masas; y las condiciones iniciales\n",
    "\n",
    "Vamos a diferenciar las diferentes $\\psi$ son un subindice indicando su posicion y un superindice indicando la direccion de oscilacion (vertical u horizontal)\n",
    "\n",
    "$$\\psi_{n,m}^{k}, n\\in[1, N], m\\in[1, M], k=x\\lor y$$\n",
    "\n",
    "Las ecuaciones de movimiento se pueden dividir en 3 clases:\n",
    "* las masas de los 4 bordes\n",
    "* las masas de los 4 lados\n",
    "* las masas del medio (no estan en contacto con un contorno\n",
    "\n",
    "### Oscilaciones horizontales\n",
    "\n",
    "#### Bordes\n",
    "$$\\ddot{\\psi}_{1,1}^{x}=\\frac{-k}{m}(4\\psi_{1,1}^{x}-\\psi_{1,2}^{x}-\\psi_{2,1}^{x})$$\n",
    "$$\\ddot{\\psi}_{1,M}^{x}=\\frac{-k}{m}(4\\psi_{1,M}^{x}-\\psi_{1,M-1}^{x}-\\psi_{2,M}^{x})$$\n",
    "$$\\ddot{\\psi}_{N,1}^{x}=\\frac{-k}{m}(4\\psi_{N,1}^{x}-\\psi_{N,2}^{x}-\\psi_{N-1,1}^{x})$$\n",
    "$$\\ddot{\\psi}_{N,M}^{x}=\\frac{-k}{m}(4\\psi_{N,M}^{x}-\\psi_{N,M-1}^{x}-\\psi_{N-1,M}^{x})$$\n",
    "\n",
    "#### Lados\n",
    "con $n\\in[2, N-1], m\\in[2, M-1]$\n",
    "$$\\ddot{\\psi}_{1,m}^{x}=\\frac{-k}{m}(4\\psi_{1,m}^{x}-\\psi_{1,m-1}^{x}-\\psi_{1,m+1}^{x}-\\psi_{2,m}^{x})$$\n",
    "$$\\ddot{\\psi}_{n,1}^{x}=\\frac{-k}{m}(4\\psi_{n,1}^{x}-\\psi_{n-1,1}^{x}-\\psi_{n+1,1}^{x}-\\psi_{n,2}^{x})$$\n",
    "$$\\ddot{\\psi}_{N,m}^{x}=\\frac{-k}{m}(4\\psi_{N,m}^{x}-\\psi_{N,m-1}^{x}-\\psi_{N,m+1}^{x}-\\psi_{N,m}^{x})$$\n",
    "$$\\ddot{\\psi}_{n,M}^{x}=\\frac{-k}{m}(4\\psi_{n,M}^{x}-\\psi_{n-1,M}^{x}-\\psi_{n+1,M}^{x}-\\psi_{n,M-1}^{x})$$\n",
    "\n",
    "#### Medio\n",
    "con $n\\in[2, N-1], m\\in[2, M-1]$\n",
    "$$\\ddot{\\psi}_{n,m}^{x}=\\frac{-k}{m}(4\\psi_{n,m}^{x}-\\psi_{n,m-1}^{x}-\\psi_{n,m+1}^{x}-\\psi_{n-1,m}^{x}-\\psi_{n+1,m}^{x})$$\n",
    "\n",
    "### Oscilaciones verticales\n",
    "\n",
    "#### Bordes\n",
    "$$\\ddot{\\psi}_{1,1}^{y}=\\frac{-k}{m}(4\\psi_{11}^{y}-\\psi_{12}^{y}-\\psi_{21}^{y})$$\n",
    "$$\\ddot{\\psi}_{1,M}^{y}=\\frac{-k}{m}(4\\psi_{1,M}^{y}-\\psi_{1,M-1}^{y}-\\psi_{2,M}^{y})$$\n",
    "$$\\ddot{\\psi}_{N,1}^{y}=\\frac{-k}{m}(4\\psi_{N,1}^{y}-\\psi_{N,2}^{y}-\\psi_{N-1,1}^{y})$$\n",
    "$$\\ddot{\\psi}_{N,M}^{y}=\\frac{-k}{m}(4\\psi_{N,M}^{y}-\\psi_{N,M-1}^{y}-\\psi_{N-1,M}^{y})$$\n",
    "\n",
    "#### Lados\n",
    "con $n\\in[2, N-1], m\\in[2, M-1]$\n",
    "$$\\ddot{\\psi}_{1,m}^{y}=\\frac{-k}{m}(4\\psi_{1,m}^{y}-\\psi_{1,m-1}^{y}-\\psi_{1,m+1}^{y}-\\psi_{2,m}^{y})$$\n",
    "$$\\ddot{\\psi}_{n,1}^{y}=\\frac{-k}{m}(4\\psi_{n,1}^{y}-\\psi_{n-1,1}^{y}-\\psi_{n+1,1}^{y}-\\psi_{n,2}^{y})$$\n",
    "$$\\ddot{\\psi}_{N,m}^{y}=\\frac{-k}{m}(4\\psi_{N,m}^{y}-\\psi_{N,m-1}^{y}-\\psi_{N,m+1}^{y}-\\psi_{N,m}^{y})$$\n",
    "$$\\ddot{\\psi}_{n,M}^{y}=\\frac{-k}{m}(4\\psi_{n,M}^{y}-\\psi_{n-1,M}^{y}-\\psi_{n+1,M}^{y}-\\psi_{n,M-1}^{y})$$\n",
    "\n",
    "#### Medio\n",
    "con $n\\in[2, N-1], m\\in[2, M-1]$\n",
    "$$\\ddot{\\psi}_{n,m}^{y}=\\frac{-k}{m}(4\\psi_{n,m}^{y}-\\psi_{n,m-1}^{y}-\\psi_{n,m+1}^{y}-\\psi_{n-1,m}^{y}-\\psi_{n+1,m}^{y})$$"
   ]
  },
  {
   "cell_type": "code",
   "execution_count": null,
   "metadata": {},
   "outputs": [],
   "source": [
    "%matplotlib inline\n",
    "\n",
    "import numpy as np\n",
    "import matplotlib.pyplot as plt\n",
    "from matplotlib import animation, rc\n",
    "from IPython.display import HTML"
   ]
  }
 ],
 "metadata": {
  "kernelspec": {
   "display_name": "Python 3",
   "language": "python",
   "name": "python3"
  },
  "language_info": {
   "codemirror_mode": {
    "name": "ipython",
    "version": 3
   },
   "file_extension": ".py",
   "mimetype": "text/x-python",
   "name": "python",
   "nbconvert_exporter": "python",
   "pygments_lexer": "ipython3",
   "version": "3.8.3"
  }
 },
 "nbformat": 4,
 "nbformat_minor": 4
}
